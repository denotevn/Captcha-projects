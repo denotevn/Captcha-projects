{
 "cells": [
  {
   "cell_type": "code",
   "execution_count": 8,
   "metadata": {},
   "outputs": [],
   "source": [
    "import cv2\n",
    "import typing\n",
    "import numpy as np\n",
    "\n",
    "from mltu.inferenceModel import OnnxInferenceModel\n",
    "from mltu.utils.text_utils import ctc_decoder, get_cer\n",
    "import pandas as pd\n",
    "from tqdm import tqdm\n",
    "from mltu.configs import BaseModelConfigs\n",
    "import matplotlib.pyplot as plt"
   ]
  },
  {
   "cell_type": "code",
   "execution_count": 2,
   "metadata": {},
   "outputs": [],
   "source": [
    "\n",
    "class ImageToWordModel(OnnxInferenceModel):\n",
    "    def __init__(self, char_list: typing.Union[str, list], *args, **kwargs):\n",
    "        super().__init__(*args, **kwargs)\n",
    "        self.char_list = char_list\n",
    "\n",
    "    def predict(self, image: np.ndarray):\n",
    "        image = cv2.resize(image, self.input_shape[:2][::-1])\n",
    "\n",
    "        image_pred = np.expand_dims(image, axis=0).astype(np.float32)\n",
    "\n",
    "        preds = self.model.run(None, {self.input_name: image_pred})[0]\n",
    "\n",
    "        text = ctc_decoder(preds, self.char_list)[0]\n",
    "\n",
    "        return text"
   ]
  },
  {
   "cell_type": "code",
   "execution_count": null,
   "metadata": {},
   "outputs": [],
   "source": [
    "configs = BaseModelConfigs.load(\"/home/tuandinh/Desktop/Captra_projects/Models/02_captcha_to_text/202310071259/configs.yaml\")\n",
    "\n",
    "model = ImageToWordModel(model_path=configs.model_path, char_list=configs.vocab)\n",
    "\n",
    "df = pd.read_csv(\"/home/tuandinh/Desktop/Captra_projects/Models/02_captcha_to_text/202310071259/val.csv\").values.tolist()\n",
    "\n",
    "accum_cer = []\n",
    "result_prediction = []\n",
    "\n",
    "for image_path, label in tqdm(df):\n",
    "    image = cv2.imread(image_path)\n",
    "\n",
    "    prediction_text = model.predict(image)\n",
    "    result_prediction.append(prediction_text)\n",
    "    cer = get_cer(prediction_text, label)\n",
    "    print(f\"Image: {image_path}, Label: {label}, Prediction: {prediction_text}, CER: {cer}\")\n",
    "\n",
    "    accum_cer.append(cer)\n",
    "\n",
    "print(f\"Average CER: {np.average(accum_cer)}\")"
   ]
  },
  {
   "cell_type": "code",
   "execution_count": 5,
   "metadata": {},
   "outputs": [
    {
     "data": {
      "text/plain": [
       "'3n3cf'"
      ]
     },
     "execution_count": 5,
     "metadata": {},
     "output_type": "execute_result"
    }
   ],
   "source": [
    "result_prediction[1]"
   ]
  },
  {
   "cell_type": "code",
   "execution_count": 31,
   "metadata": {},
   "outputs": [
    {
     "data": {
      "text/plain": [
       "16"
      ]
     },
     "execution_count": 31,
     "metadata": {},
     "output_type": "execute_result"
    }
   ],
   "source": [
    "data = pd.read_csv(\"/home/tuandinh/Desktop/Captra_projects/Models/02_captcha_to_text/202310071259/val.csv\")\n",
    "data.shape\n",
    "data_visulization = data.head(16)"
   ]
  },
  {
   "cell_type": "code",
   "execution_count": null,
   "metadata": {},
   "outputs": [],
   "source": []
  },
  {
   "cell_type": "code",
   "execution_count": 42,
   "metadata": {},
   "outputs": [
    {
     "data": {
      "text/html": [
       "<div>\n",
       "<style scoped>\n",
       "    .dataframe tbody tr th:only-of-type {\n",
       "        vertical-align: middle;\n",
       "    }\n",
       "\n",
       "    .dataframe tbody tr th {\n",
       "        vertical-align: top;\n",
       "    }\n",
       "\n",
       "    .dataframe thead th {\n",
       "        text-align: right;\n",
       "    }\n",
       "</style>\n",
       "<table border=\"1\" class=\"dataframe\">\n",
       "  <thead>\n",
       "    <tr style=\"text-align: right;\">\n",
       "      <th></th>\n",
       "      <th>0</th>\n",
       "      <th>1</th>\n",
       "    </tr>\n",
       "  </thead>\n",
       "  <tbody>\n",
       "    <tr>\n",
       "      <th>1</th>\n",
       "      <td>/home/tuandinh/Desktop/Captra_projects/Dataset...</td>\n",
       "      <td>3n3cf</td>\n",
       "    </tr>\n",
       "    <tr>\n",
       "      <th>2</th>\n",
       "      <td>/home/tuandinh/Desktop/Captra_projects/Dataset...</td>\n",
       "      <td>m4fd8</td>\n",
       "    </tr>\n",
       "    <tr>\n",
       "      <th>3</th>\n",
       "      <td>/home/tuandinh/Desktop/Captra_projects/Dataset...</td>\n",
       "      <td>bdbb3</td>\n",
       "    </tr>\n",
       "  </tbody>\n",
       "</table>\n",
       "</div>"
      ],
      "text/plain": [
       "                                                   0      1\n",
       "1  /home/tuandinh/Desktop/Captra_projects/Dataset...  3n3cf\n",
       "2  /home/tuandinh/Desktop/Captra_projects/Dataset...  m4fd8\n",
       "3  /home/tuandinh/Desktop/Captra_projects/Dataset...  bdbb3"
      ]
     },
     "execution_count": 42,
     "metadata": {},
     "output_type": "execute_result"
    }
   ],
   "source": []
  },
  {
   "cell_type": "code",
   "execution_count": 44,
   "metadata": {},
   "outputs": [
    {
     "name": "stdout",
     "output_type": "stream",
     "text": [
      "0\n",
      "0\n",
      "1\n",
      "1\n"
     ]
    }
   ],
   "source": []
  },
  {
   "cell_type": "code",
   "execution_count": null,
   "metadata": {},
   "outputs": [],
   "source": []
  }
 ],
 "metadata": {
  "kernelspec": {
   "display_name": "env",
   "language": "python",
   "name": "python3"
  },
  "language_info": {
   "codemirror_mode": {
    "name": "ipython",
    "version": 3
   },
   "file_extension": ".py",
   "mimetype": "text/x-python",
   "name": "python",
   "nbconvert_exporter": "python",
   "pygments_lexer": "ipython3",
   "version": "3.10.12"
  },
  "orig_nbformat": 4
 },
 "nbformat": 4,
 "nbformat_minor": 2
}
